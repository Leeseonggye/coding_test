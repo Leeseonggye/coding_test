{
 "cells": [
  {
   "cell_type": "code",
   "execution_count": 12,
   "metadata": {},
   "outputs": [],
   "source": [
    "def solution(book_time):\n",
    "    answer = 0\n",
    "    return answer"
   ]
  },
  {
   "cell_type": "code",
   "execution_count": 28,
   "metadata": {},
   "outputs": [],
   "source": [
    "def time_to_min(time):\n",
    "    min_time_list = []\n",
    "    for i in range(len(time)):\n",
    "        time_list = time[i].split(':')\n",
    "        min_time = int(time_list[0]) * 60 + int(time_list[1])\n",
    "        min_time_list.append(min_time)\n",
    "    \n",
    "    return min_time_list"
   ]
  },
  {
   "cell_type": "code",
   "execution_count": 36,
   "metadata": {},
   "outputs": [],
   "source": [
    "def time_to_min(time):\n",
    "    min_time_list = []\n",
    "    for i in range(len(time)):\n",
    "        time_list = time[i].split(':')\n",
    "        min_time = int(time_list[0]) * 60 + int(time_list[1])\n",
    "        min_time_list.append(min_time)\n",
    "    \n",
    "    return min_time_list\n",
    "\n",
    "def solution(book_time):\n",
    "    answer = 0\n",
    "    reserve = []\n",
    "    min_time_list = []\n",
    "    \n",
    "    for time in book_time:\n",
    "        min_time_list.append(time_to_min(time))\n",
    "    \n",
    "    min_time_list.sort()\n",
    "        \n",
    "    for i in range(len(min_time_list)):\n",
    "        if i == 0:\n",
    "            reserve.append(min_time_list[i])\n",
    "        \n",
    "        else:\n",
    "            end_time_list = [i[1]+10 for i in reserve]\n",
    "            \n",
    "            if min(end_time_list) > min_time_list[i][0]:\n",
    "                reserve.append(min_time_list[i])\n",
    "            else:\n",
    "                for j in range(len(reserve)):\n",
    "                    if reserve[j][1] + 10 <= min_time_list[i][0]:\n",
    "                        reserve[j][1] = min_time_list[i][1]\n",
    "                        break\n",
    "                \n",
    "    answer = len(reserve)\n",
    "    \n",
    "    return answer"
   ]
  },
  {
   "cell_type": "code",
   "execution_count": 37,
   "metadata": {},
   "outputs": [
    {
     "data": {
      "text/plain": [
       "1"
      ]
     },
     "execution_count": 37,
     "metadata": {},
     "output_type": "execute_result"
    }
   ],
   "source": [
    "book_time = [[\"09:10\", \"10:10\"], [\"10:20\", \"12:20\"]]\n",
    "solution(book_time)"
   ]
  },
  {
   "cell_type": "code",
   "execution_count": null,
   "metadata": {},
   "outputs": [],
   "source": []
  }
 ],
 "metadata": {
  "kernelspec": {
   "display_name": "Python 3",
   "language": "python",
   "name": "python3"
  },
  "language_info": {
   "codemirror_mode": {
    "name": "ipython",
    "version": 3
   },
   "file_extension": ".py",
   "mimetype": "text/x-python",
   "name": "python",
   "nbconvert_exporter": "python",
   "pygments_lexer": "ipython3",
   "version": "3.8.10"
  },
  "orig_nbformat": 4
 },
 "nbformat": 4,
 "nbformat_minor": 2
}
