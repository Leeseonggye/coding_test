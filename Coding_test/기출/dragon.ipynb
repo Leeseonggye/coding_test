{
 "cells": [
  {
   "cell_type": "code",
   "execution_count": 58,
   "metadata": {},
   "outputs": [],
   "source": [
    "def num_dragon(n):\n",
    "    # 알은 2일 뒤에 부화\n",
    "    # 드래곤은 알을 하루에 하나씩 낳음\n",
    "    # 드래곤은 4번의 알을 낳을수있음\n",
    "    # n일 후 드래곤 + 드래곤의 알이 몇개인지!\n",
    "    \n",
    "    egg_0 = 1\n",
    "    egg_1 = 0\n",
    "    dragon_0 = 0\n",
    "    dragon_1 = 0\n",
    "    dragon_2 = 0\n",
    "    dragon_3 = 0\n",
    "    dragon_4 = 0\n",
    "    \n",
    "    if n == 0:\n",
    "        return 1\n",
    "    \n",
    "    for i in range(1,n+1):\n",
    "        dragon_4 = dragon_4 + dragon_3\n",
    "        dragon_3 = dragon_2\n",
    "        dragon_2 = dragon_1\n",
    "        dragon_1 = dragon_0\n",
    "        dragon_0 = egg_1\n",
    "        egg_1 = egg_0\n",
    "        egg_0 = dragon_0 + dragon_1 + dragon_2 + dragon_3\n",
    "        \n",
    "    \n",
    "    return egg_0 + egg_1 + dragon_0 + dragon_1 + dragon_2 + dragon_3 + dragon_4\n",
    "    "
   ]
  },
  {
   "cell_type": "code",
   "execution_count": 61,
   "metadata": {},
   "outputs": [
    {
     "data": {
      "text/plain": [
       "12"
      ]
     },
     "execution_count": 61,
     "metadata": {},
     "output_type": "execute_result"
    }
   ],
   "source": [
    "num_dragon(6)"
   ]
  },
  {
   "cell_type": "code",
   "execution_count": 26,
   "metadata": {},
   "outputs": [],
   "source": [
    "egg_1 = egg_0"
   ]
  },
  {
   "cell_type": "code",
   "execution_count": 24,
   "metadata": {},
   "outputs": [],
   "source": [
    "egg_0 = 10"
   ]
  },
  {
   "cell_type": "code",
   "execution_count": 27,
   "metadata": {},
   "outputs": [
    {
     "data": {
      "text/plain": [
       "10"
      ]
     },
     "execution_count": 27,
     "metadata": {},
     "output_type": "execute_result"
    }
   ],
   "source": [
    "egg_1"
   ]
  },
  {
   "cell_type": "code",
   "execution_count": null,
   "metadata": {},
   "outputs": [],
   "source": [
    "egg_0 + egg_1 + dragon_0 + dragon_1 + dragon_2 + dragon_3 + dragon_4"
   ]
  }
 ],
 "metadata": {
  "kernelspec": {
   "display_name": "Python 3",
   "language": "python",
   "name": "python3"
  },
  "language_info": {
   "codemirror_mode": {
    "name": "ipython",
    "version": 3
   },
   "file_extension": ".py",
   "mimetype": "text/x-python",
   "name": "python",
   "nbconvert_exporter": "python",
   "pygments_lexer": "ipython3",
   "version": "3.8.10"
  },
  "orig_nbformat": 4
 },
 "nbformat": 4,
 "nbformat_minor": 2
}
