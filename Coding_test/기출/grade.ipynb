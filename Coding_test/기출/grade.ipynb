{
 "cells": [
  {
   "cell_type": "code",
   "execution_count": 6,
   "metadata": {},
   "outputs": [],
   "source": [
    "def grade(grades, weights, threshold):\n",
    "    table = {\"A+\":10, \"A0\": 9, \"B+\": 8, \"B0\": 7, \"C+\": 6, \"C0\": 5, \"D+\": 4, \"D0\": 3, \"F\": 0}\n",
    "    score = 0\n",
    "    for i in range(len(grades)):\n",
    "        score = score + table[grades[i]] * weights[i]\n",
    "    \n",
    "    return score-threshold"
   ]
  },
  {
   "cell_type": "code",
   "execution_count": 7,
   "metadata": {},
   "outputs": [],
   "source": [
    "grades = [\"A+\", \"D+\", \"F\", \"C0\"]\n",
    "weights = [2,5,10,3]\n",
    "threshold = 50"
   ]
  },
  {
   "cell_type": "code",
   "execution_count": 8,
   "metadata": {},
   "outputs": [
    {
     "data": {
      "text/plain": [
       "5"
      ]
     },
     "execution_count": 8,
     "metadata": {},
     "output_type": "execute_result"
    }
   ],
   "source": [
    "grade(grades, weights, threshold)"
   ]
  },
  {
   "cell_type": "code",
   "execution_count": null,
   "metadata": {},
   "outputs": [],
   "source": []
  }
 ],
 "metadata": {
  "kernelspec": {
   "display_name": "Python 3",
   "language": "python",
   "name": "python3"
  },
  "language_info": {
   "codemirror_mode": {
    "name": "ipython",
    "version": 3
   },
   "file_extension": ".py",
   "mimetype": "text/x-python",
   "name": "python",
   "nbconvert_exporter": "python",
   "pygments_lexer": "ipython3",
   "version": "3.8.10"
  },
  "orig_nbformat": 4
 },
 "nbformat": 4,
 "nbformat_minor": 2
}
