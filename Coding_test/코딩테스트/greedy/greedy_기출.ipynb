{
 "cells": [
  {
   "cell_type": "code",
   "execution_count": 4,
   "metadata": {},
   "outputs": [],
   "source": [
    "# 모험가 길드\n",
    "\n",
    "n = int(input())\n",
    "\n",
    "fear = list(map(int, input().split()))"
   ]
  },
  {
   "cell_type": "code",
   "execution_count": 35,
   "metadata": {},
   "outputs": [],
   "source": [
    "# 모험가 길드\n",
    "def solution(n, fear):\n",
    "    fear.sort()\n",
    "    groups = []\n",
    "    group = []\n",
    "    for people in fear:\n",
    "        group.append(people)\n",
    "        \n",
    "        if len(group) == people:\n",
    "            groups.append(group)\n",
    "            group = []\n",
    "    \n",
    "    return len(groups)\n",
    "\n",
    "    "
   ]
  },
  {
   "cell_type": "code",
   "execution_count": 38,
   "metadata": {},
   "outputs": [],
   "source": [
    "fear = [1,2,3,4,5,6,7,8]"
   ]
  },
  {
   "cell_type": "code",
   "execution_count": 39,
   "metadata": {},
   "outputs": [],
   "source": [
    "groups = solution(n, fear)"
   ]
  },
  {
   "cell_type": "code",
   "execution_count": 40,
   "metadata": {},
   "outputs": [
    {
     "data": {
      "text/plain": [
       "1"
      ]
     },
     "execution_count": 40,
     "metadata": {},
     "output_type": "execute_result"
    }
   ],
   "source": [
    "groups"
   ]
  },
  {
   "cell_type": "code",
   "execution_count": 45,
   "metadata": {},
   "outputs": [],
   "source": [
    "# 곱하기 혹은 더하기\n",
    "\n",
    "s = input()"
   ]
  },
  {
   "cell_type": "code",
   "execution_count": 46,
   "metadata": {},
   "outputs": [],
   "source": [
    "# 곱하기 혹은 더하기\n",
    "\n",
    "def solution(s):\n",
    "    answer = 0\n",
    "    for num in s:\n",
    "        num = int(num)\n",
    "        answer = max(answer + num, answer * num)\n",
    "\n",
    "    return answer"
   ]
  },
  {
   "cell_type": "code",
   "execution_count": 47,
   "metadata": {},
   "outputs": [
    {
     "data": {
      "text/plain": [
       "210"
      ]
     },
     "execution_count": 47,
     "metadata": {},
     "output_type": "execute_result"
    }
   ],
   "source": [
    "solution(s)"
   ]
  },
  {
   "cell_type": "code",
   "execution_count": 77,
   "metadata": {},
   "outputs": [],
   "source": [
    "# 문자열 뒤집기\n",
    "s = input()\n",
    "\n",
    "def solution(s):\n",
    "    group_0_total = []\n",
    "    group_1_total = []\n",
    "    group_0 = []\n",
    "    group_1 = []\n",
    "    \n",
    "    for num in s:\n",
    "        \n",
    "        num = int(num)\n",
    "        \n",
    "        if num == 0:\n",
    "            if len(group_1) == 0:\n",
    "                group_0.append(0)\n",
    "            \n",
    "            else:\n",
    "                group_1_total.append(group_1)\n",
    "                group_1 = []\n",
    "                group_0.append(0)\n",
    "        \n",
    "        elif num == 1:\n",
    "            if len(group_0) == 0:\n",
    "                group_1.append(1)\n",
    "            \n",
    "            else:\n",
    "                group_0_total.append(group_0)\n",
    "                group_0 = []\n",
    "                group_1.append(1)\n",
    "                    \n",
    "    if len(group_0) != 0:\n",
    "        group_0_total.append(group_0)\n",
    "    \n",
    "    if len(group_1) != 0:\n",
    "        group_1_total.append(group_1)\n",
    "    \n",
    "    \n",
    "    return min(len(group_0_total), len(group_1_total))"
   ]
  },
  {
   "cell_type": "code",
   "execution_count": 81,
   "metadata": {},
   "outputs": [],
   "source": [
    "# 만들 수 없는 금액\n",
    "n = int(input())\n",
    "coins = list(map(int, input().split()))"
   ]
  },
  {
   "cell_type": "code",
   "execution_count": 84,
   "metadata": {},
   "outputs": [],
   "source": [
    "# 만들 수 없는 금액\n",
    "\n",
    "def solution(n, coins):\n",
    "    coins.sort()\n",
    "    \n",
    "    target = 1\n",
    "    \n",
    "    for coin in coins:\n",
    "        if target < coin:\n",
    "            break\n",
    "        \n",
    "        target += coin\n",
    "    \n",
    "    \n",
    "    \n",
    "    return target\n",
    "            \n",
    "    "
   ]
  },
  {
   "cell_type": "code",
   "execution_count": 85,
   "metadata": {},
   "outputs": [
    {
     "data": {
      "text/plain": [
       "8"
      ]
     },
     "execution_count": 85,
     "metadata": {},
     "output_type": "execute_result"
    }
   ],
   "source": [
    "solution(n, coins)"
   ]
  },
  {
   "cell_type": "code",
   "execution_count": 86,
   "metadata": {},
   "outputs": [],
   "source": [
    "# 볼링공 고르기\n",
    "\n",
    "n, m = map(int, input().split())\n",
    "weight = list(map(int, input().split()))"
   ]
  },
  {
   "cell_type": "code",
   "execution_count": 90,
   "metadata": {},
   "outputs": [],
   "source": [
    "# 볼링공 고르기\n",
    "\n",
    "def solution(weight):\n",
    "    answer = 0\n",
    "    \n",
    "    for i in range(len(weight)):\n",
    "        for j in range(i+1,len(weight)):\n",
    "            if weight[i] != weight[j]:\n",
    "                answer +=1\n",
    "    \n",
    "    return answer"
   ]
  },
  {
   "cell_type": "code",
   "execution_count": 89,
   "metadata": {},
   "outputs": [
    {
     "data": {
      "text/plain": [
       "8"
      ]
     },
     "execution_count": 89,
     "metadata": {},
     "output_type": "execute_result"
    }
   ],
   "source": [
    "solution(weight)"
   ]
  },
  {
   "cell_type": "code",
   "execution_count": 94,
   "metadata": {},
   "outputs": [],
   "source": [
    "list = [1,2,3,0,0]\n",
    "count = list.count(0)"
   ]
  },
  {
   "cell_type": "code",
   "execution_count": 95,
   "metadata": {},
   "outputs": [
    {
     "data": {
      "text/plain": [
       "2"
      ]
     },
     "execution_count": 95,
     "metadata": {},
     "output_type": "execute_result"
    }
   ],
   "source": [
    "count"
   ]
  },
  {
   "cell_type": "code",
   "execution_count": 159,
   "metadata": {},
   "outputs": [],
   "source": [
    "# 무지의 먹방\n",
    "\n",
    "food_times = [8,6,4]\n",
    "k=15\n",
    "\n",
    "def solution(food_times, k):\n",
    "    import heapq\n",
    "    q = []\n",
    "    for i in range(len(food_times)):\n",
    "        heapq.heappush(q, (food_times[i], i+1))        \n",
    "    \n",
    "    if sum(food_times) <= k:\n",
    "        return -1\n",
    "    \n",
    "    sum_value = 0\n",
    "    previous = 0\n",
    "    length = len(food_times)\n",
    "    \n",
    "    while sum_value + (q[0][0]-previous) * length <=k:\n",
    "        now, idx = heapq.heappop(q)\n",
    "        sum_value += (now-previous) * length\n",
    "        previous = now\n",
    "        length -= 1\n",
    "    \n",
    "    result = sorted(q, key = lambda x: x[1])\n",
    "    \n",
    "    return result[(k-sum_value)%length][1]\n",
    "    \n",
    "        \n",
    "        \n",
    "        \n",
    "    \n",
    "    \n",
    "        "
   ]
  },
  {
   "cell_type": "code",
   "execution_count": 160,
   "metadata": {},
   "outputs": [
    {
     "data": {
      "text/plain": [
       "2"
      ]
     },
     "execution_count": 160,
     "metadata": {},
     "output_type": "execute_result"
    }
   ],
   "source": [
    "solution(food_times, k)"
   ]
  },
  {
   "cell_type": "code",
   "execution_count": 148,
   "metadata": {},
   "outputs": [],
   "source": [
    "import heapq\n",
    "food_times = [8,6,4]\n",
    "q = []\n",
    "for i in range(len(food_times)):\n",
    "    heapq.heappush(q, (food_times[i], i+1))  "
   ]
  },
  {
   "cell_type": "code",
   "execution_count": 149,
   "metadata": {},
   "outputs": [
    {
     "data": {
      "text/plain": [
       "(4, 3)"
      ]
     },
     "execution_count": 149,
     "metadata": {},
     "output_type": "execute_result"
    }
   ],
   "source": [
    "food, idx = heapq.heappop(q)\n",
    "food, idx"
   ]
  },
  {
   "cell_type": "code",
   "execution_count": 150,
   "metadata": {},
   "outputs": [
    {
     "data": {
      "text/plain": [
       "[(6, 2), (8, 1)]"
      ]
     },
     "execution_count": 150,
     "metadata": {},
     "output_type": "execute_result"
    }
   ],
   "source": [
    "q"
   ]
  },
  {
   "cell_type": "code",
   "execution_count": null,
   "metadata": {},
   "outputs": [],
   "source": []
  },
  {
   "cell_type": "code",
   "execution_count": 134,
   "metadata": {},
   "outputs": [
    {
     "data": {
      "text/plain": [
       "2"
      ]
     },
     "execution_count": 134,
     "metadata": {},
     "output_type": "execute_result"
    }
   ],
   "source": [
    "soulution(food_times, k)"
   ]
  },
  {
   "cell_type": "code",
   "execution_count": 126,
   "metadata": {},
   "outputs": [
    {
     "data": {
      "text/plain": [
       "[1, 0, 0]"
      ]
     },
     "execution_count": 126,
     "metadata": {},
     "output_type": "execute_result"
    }
   ],
   "source": [
    "food_times"
   ]
  },
  {
   "cell_type": "code",
   "execution_count": 127,
   "metadata": {},
   "outputs": [
    {
     "data": {
      "text/plain": [
       "0"
      ]
     },
     "execution_count": 127,
     "metadata": {},
     "output_type": "execute_result"
    }
   ],
   "source": [
    "food_idx"
   ]
  },
  {
   "cell_type": "code",
   "execution_count": null,
   "metadata": {},
   "outputs": [],
   "source": []
  }
 ],
 "metadata": {
  "kernelspec": {
   "display_name": "Python 3",
   "language": "python",
   "name": "python3"
  },
  "language_info": {
   "codemirror_mode": {
    "name": "ipython",
    "version": 3
   },
   "file_extension": ".py",
   "mimetype": "text/x-python",
   "name": "python",
   "nbconvert_exporter": "python",
   "pygments_lexer": "ipython3",
   "version": "3.8.10"
  },
  "orig_nbformat": 4
 },
 "nbformat": 4,
 "nbformat_minor": 2
}
