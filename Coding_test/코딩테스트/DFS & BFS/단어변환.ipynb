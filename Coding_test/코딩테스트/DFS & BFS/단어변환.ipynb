{
 "cells": [
  {
   "cell_type": "code",
   "execution_count": 1,
   "metadata": {},
   "outputs": [],
   "source": [
    "def solution(begin, target, words):\n",
    "    answer = 0\n",
    "    return answer"
   ]
  },
  {
   "cell_type": "code",
   "execution_count": 2,
   "metadata": {},
   "outputs": [],
   "source": [
    "begin = 'hit'\n",
    "target = 'cog'\n",
    "words = [\"hot\", \"dot\", \"dog\", \"lot\", \"log\", \"cog\"]"
   ]
  },
  {
   "cell_type": "code",
   "execution_count": 22,
   "metadata": {},
   "outputs": [],
   "source": [
    "from collections import deque\n",
    "def solution(begin, target, words):\n",
    "    if target not in words:\n",
    "        return 0\n",
    "    \n",
    "    def neighbor(word1, word2):\n",
    "        diff_list = []\n",
    "        \n",
    "        for i in range(len(word1)):\n",
    "            if word1[i] != word2[i]:\n",
    "                diff_list.append(word1[i])\n",
    "        \n",
    "        if len(diff_list) == 1:\n",
    "            return True\n",
    "        \n",
    "        else:\n",
    "            return False\n",
    "    \n",
    "    neighbor_graph = {}\n",
    "    result = {}\n",
    "    words = words + [begin]\n",
    "    \n",
    "    for word in words:\n",
    "        neighbor_graph[word] = []\n",
    "        result[word] = 0\n",
    "    \n",
    "    for key_word in words:\n",
    "        for word in words:\n",
    "            if neighbor(key_word, word):\n",
    "                neighbor_graph[key_word].append(word)\n",
    "    \n",
    "    \n",
    "    queue = deque([begin])\n",
    "    \n",
    "    while queue:\n",
    "        now = queue.popleft()\n",
    "        for word in neighbor_graph[now]:\n",
    "            result[word] = result[now] + 1\n",
    "            queue.append(word)\n",
    "            \n",
    "            if word == target:\n",
    "                return result[word]\n",
    "    \n",
    "    return 0\n",
    "            \n",
    "    \n",
    "    \n",
    "    \n",
    "    \n",
    "\n"
   ]
  },
  {
   "cell_type": "code",
   "execution_count": 24,
   "metadata": {},
   "outputs": [
    {
     "data": {
      "text/plain": [
       "4"
      ]
     },
     "execution_count": 24,
     "metadata": {},
     "output_type": "execute_result"
    }
   ],
   "source": [
    "solution(begin, target, words)"
   ]
  },
  {
   "cell_type": "code",
   "execution_count": 18,
   "metadata": {},
   "outputs": [
    {
     "data": {
      "text/plain": [
       "{'hot': ['dot', 'lot'],\n",
       " 'dot': ['hot', 'dog', 'lot'],\n",
       " 'dog': ['dot', 'log', 'cog'],\n",
       " 'lot': ['hot', 'dot', 'log'],\n",
       " 'log': ['dog', 'lot', 'cog'],\n",
       " 'cog': ['dog', 'log']}"
      ]
     },
     "execution_count": 18,
     "metadata": {},
     "output_type": "execute_result"
    }
   ],
   "source": [
    "graph = solution(begin, target, words)\n",
    "graph"
   ]
  },
  {
   "cell_type": "code",
   "execution_count": null,
   "metadata": {},
   "outputs": [],
   "source": []
  }
 ],
 "metadata": {
  "kernelspec": {
   "display_name": "Python 3",
   "language": "python",
   "name": "python3"
  },
  "language_info": {
   "codemirror_mode": {
    "name": "ipython",
    "version": 3
   },
   "file_extension": ".py",
   "mimetype": "text/x-python",
   "name": "python",
   "nbconvert_exporter": "python",
   "pygments_lexer": "ipython3",
   "version": "3.8.10"
  },
  "orig_nbformat": 4
 },
 "nbformat": 4,
 "nbformat_minor": 2
}
