{
 "cells": [
  {
   "cell_type": "code",
   "execution_count": 1,
   "metadata": {},
   "outputs": [],
   "source": [
    "n = 3\n",
    "computers = [[1, 1, 0], [1, 1, 0], [0, 0, 1]]\t"
   ]
  },
  {
   "cell_type": "code",
   "execution_count": null,
   "metadata": {},
   "outputs": [],
   "source": [
    "network = []\n",
    "queue = []\n",
    "visited = []\n",
    "answer = 0\n",
    "\n",
    "for a in range(n):\n",
    "    if a not in visited:\n",
    "        queue.append(a)\n",
    "        answer += 1\n",
    "        \n",
    "        while queue:\n",
    "            now = queue.pop(0)\n",
    "            for i in range(n):\n",
    "                if computers[now][i] == 1 and i not in visited:\n",
    "                    visited.append(i)\n",
    "                    queue.append(i)\n",
    "    "
   ]
  },
  {
   "cell_type": "code",
   "execution_count": null,
   "metadata": {},
   "outputs": [],
   "source": [
    "def solution(n, computers):\n",
    "    answer = 0\n",
    "\n",
    "    queue = []\n",
    "    visited = []\n",
    "\n",
    "    for a in range(n):\n",
    "        if a not in visited:\n",
    "            queue.append(a)\n",
    "            answer += 1\n",
    "\n",
    "            while queue :\n",
    "                now = queue.pop(0)    \n",
    "                for i in range(n):\n",
    "                    if computers[now][i] == 1 and i not in visited:\n",
    "                        visited.append(i)\n",
    "                        queue.append(i)\n",
    "    return answer\n"
   ]
  },
  {
   "cell_type": "code",
   "execution_count": 2,
   "metadata": {},
   "outputs": [
    {
     "data": {
      "text/plain": [
       "4"
      ]
     },
     "execution_count": 2,
     "metadata": {},
     "output_type": "execute_result"
    }
   ],
   "source": [
    "queue = [1,2,3,4]\n",
    "\n",
    "now = queue.pop()\n",
    "now"
   ]
  },
  {
   "cell_type": "code",
   "execution_count": 3,
   "metadata": {},
   "outputs": [
    {
     "data": {
      "text/plain": [
       "1"
      ]
     },
     "execution_count": 3,
     "metadata": {},
     "output_type": "execute_result"
    }
   ],
   "source": [
    "now = queue.pop(0)\n",
    "now"
   ]
  },
  {
   "cell_type": "code",
   "execution_count": null,
   "metadata": {},
   "outputs": [],
   "source": []
  }
 ],
 "metadata": {
  "kernelspec": {
   "display_name": "Python 3",
   "language": "python",
   "name": "python3"
  },
  "language_info": {
   "codemirror_mode": {
    "name": "ipython",
    "version": 3
   },
   "file_extension": ".py",
   "mimetype": "text/x-python",
   "name": "python",
   "nbconvert_exporter": "python",
   "pygments_lexer": "ipython3",
   "version": "3.8.10"
  },
  "orig_nbformat": 4
 },
 "nbformat": 4,
 "nbformat_minor": 2
}
