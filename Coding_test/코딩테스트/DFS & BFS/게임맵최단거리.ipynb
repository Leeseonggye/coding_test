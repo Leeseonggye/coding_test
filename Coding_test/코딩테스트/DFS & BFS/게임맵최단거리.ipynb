{
 "cells": [
  {
   "cell_type": "code",
   "execution_count": 1,
   "metadata": {},
   "outputs": [],
   "source": [
    "from collections import deque\n",
    "\n",
    "maps = [[1,0,1,1,1],[1,0,1,0,1],[1,0,1,1,1],[1,1,1,0,1],[0,0,0,0,1]]"
   ]
  },
  {
   "cell_type": "code",
   "execution_count": 2,
   "metadata": {},
   "outputs": [],
   "source": [
    "from collections import deque\n",
    "\n",
    "def solution(maps):\n",
    "    dx = [1,-1,0,0]\n",
    "    dy = [0,0,1,-1]\n",
    "    \n",
    "    def bfs(x,y):\n",
    "        queue = deque()\n",
    "        queue.append((x,y))\n",
    "        \n",
    "        while queue:\n",
    "            x, y = queue.popleft()\n",
    "            \n",
    "            for i in range(4):\n",
    "                nx = x + dx[i]\n",
    "                ny = y + dy[i]\n",
    "                \n",
    "                if nx <0 or nx > len(maps) -1 or ny < 0 or ny > len(maps[0])-1:\n",
    "                    continue\n",
    "                \n",
    "                if maps[nx][ny] == 0:\n",
    "                    continue\n",
    "                \n",
    "                if maps[nx][ny] == 1:\n",
    "                    queue.append((nx, ny))\n",
    "                    maps[nx][ny] = maps[x][y] + 1\n",
    "        \n",
    "        return maps[len(maps)-1][len(maps[0])-1]\n",
    "    \n",
    "    answer = bfs(0,0)\n",
    "    \n",
    "    return -1 if answer == 1 else answer"
   ]
  },
  {
   "cell_type": "code",
   "execution_count": null,
   "metadata": {},
   "outputs": [],
   "source": [
    "from collections import deque\n",
    "def solution(maps):\n",
    "    answer = 0\n",
    "\n",
    "    # 상하좌우\n",
    "    dx = [-1, 1, 0, 0]\n",
    "    dy = [0, 0, -1, 1]\n",
    "\n",
    "    def bfs(x, y):\n",
    "        queue = deque()\n",
    "        queue.append((x, y))\n",
    "\n",
    "        # queue가 빌 때까지 반복\n",
    "        while queue:\n",
    "            x, y = queue.popleft()\n",
    "\n",
    "            # 상하좌우 칸 확인하기\n",
    "            for i in range(4):\n",
    "                nx = x + dx[i]\n",
    "                ny = y + dy[i]\n",
    "\n",
    "                # 맵을 벗어나면 무시하기\n",
    "                if nx < 0 or nx >= len(maps) or ny < 0 or ny >= len(maps[0]): continue\n",
    "\n",
    "                # 벽이면 무시하기\n",
    "                if maps[nx][ny] == 0:  continue\n",
    "\n",
    "                # 처음 지나가는 길이면 거리계산하고 다시 상하좌우 확인하기\n",
    "                if maps[nx][ny] == 1:\n",
    "                    maps[nx][ny] = maps[x][y] + 1\n",
    "                    queue.append((nx, ny))    # 재귀\n",
    "\n",
    "        # 상대 팀 진영(제일 오른쪽 아래 칸)까지의 거리 반환\n",
    "        return maps[len(maps)-1][len(maps[0])-1]\n",
    "\n",
    "    answer = bfs(0, 0)\n",
    "    return -1 if answer == 1 else answer    # 상대 팀 진영에 도착할 수 없을 때 -1"
   ]
  }
 ],
 "metadata": {
  "kernelspec": {
   "display_name": "Python 3",
   "language": "python",
   "name": "python3"
  },
  "language_info": {
   "codemirror_mode": {
    "name": "ipython",
    "version": 3
   },
   "file_extension": ".py",
   "mimetype": "text/x-python",
   "name": "python",
   "nbconvert_exporter": "python",
   "pygments_lexer": "ipython3",
   "version": "3.8.10"
  },
  "orig_nbformat": 4
 },
 "nbformat": 4,
 "nbformat_minor": 2
}
