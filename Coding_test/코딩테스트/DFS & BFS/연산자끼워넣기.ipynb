{
 "cells": [
  {
   "cell_type": "code",
   "execution_count": 44,
   "metadata": {},
   "outputs": [],
   "source": [
    "def divide(a,b):\n",
    "    if a > 0:\n",
    "        return a//b\n",
    "    \n",
    "    else:\n",
    "        return -(-a//b)"
   ]
  },
  {
   "cell_type": "code",
   "execution_count": 59,
   "metadata": {},
   "outputs": [],
   "source": [
    "n = int(input())\n",
    "\n",
    "numbers = list(map(int, input().split()))\n",
    "\n",
    "add, minus, mul, div = map(int, input().split())"
   ]
  },
  {
   "cell_type": "code",
   "execution_count": 57,
   "metadata": {},
   "outputs": [],
   "source": [
    "min_value = 1e9\n",
    "max_value = -1e9\n",
    "\n",
    "def dfs(i, now):\n",
    "    global add, minus, mul, div, min_value, max_value\n",
    "    \n",
    "    if i == n:\n",
    "        min_value = min(min_value, now)\n",
    "        max_value = max(max_value, now)\n",
    "        \n",
    "    \n",
    "    else:\n",
    "        if add > 0:\n",
    "            add -= 1\n",
    "            dfs(i+1, now + numbers[i])\n",
    "            add += 1\n",
    "\n",
    "        if minus != 0:\n",
    "            minus -= 1\n",
    "            dfs(i+1, now - numbers[i])\n",
    "            minus += 1\n",
    "        \n",
    "        \n",
    "        if mul != 0:\n",
    "            mul -= 1\n",
    "            dfs(i+1, now * numbers[i])\n",
    "            mul += 1\n",
    "    \n",
    "        if div != 0:\n",
    "            div -= 1\n",
    "            dfs(i+1, divide(now, numbers[i]))\n",
    "            div += 1\n",
    "    "
   ]
  },
  {
   "cell_type": "code",
   "execution_count": 60,
   "metadata": {},
   "outputs": [
    {
     "name": "stdout",
     "output_type": "stream",
     "text": [
      "54\n",
      "-24\n"
     ]
    }
   ],
   "source": [
    "dfs(1, numbers[0])\n",
    "print(max_value)\n",
    "print(min_value)"
   ]
  },
  {
   "cell_type": "code",
   "execution_count": 49,
   "metadata": {},
   "outputs": [
    {
     "data": {
      "text/plain": [
       "[3, 4, 5]"
      ]
     },
     "execution_count": 49,
     "metadata": {},
     "output_type": "execute_result"
    }
   ],
   "source": [
    "numbers"
   ]
  },
  {
   "cell_type": "code",
   "execution_count": 50,
   "metadata": {},
   "outputs": [
    {
     "data": {
      "text/plain": [
       "[]"
      ]
     },
     "execution_count": 50,
     "metadata": {},
     "output_type": "execute_result"
    }
   ],
   "source": [
    "answer"
   ]
  },
  {
   "cell_type": "code",
   "execution_count": null,
   "metadata": {},
   "outputs": [],
   "source": []
  }
 ],
 "metadata": {
  "kernelspec": {
   "display_name": "Python 3",
   "language": "python",
   "name": "python3"
  },
  "language_info": {
   "codemirror_mode": {
    "name": "ipython",
    "version": 3
   },
   "file_extension": ".py",
   "mimetype": "text/x-python",
   "name": "python",
   "nbconvert_exporter": "python",
   "pygments_lexer": "ipython3",
   "version": "3.8.10"
  },
  "orig_nbformat": 4
 },
 "nbformat": 4,
 "nbformat_minor": 2
}
