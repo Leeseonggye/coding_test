{
 "cells": [
  {
   "cell_type": "code",
   "execution_count": 3,
   "metadata": {},
   "outputs": [],
   "source": [
    "n, m = map(int, input().split())"
   ]
  },
  {
   "cell_type": "code",
   "execution_count": 4,
   "metadata": {},
   "outputs": [],
   "source": [
    "INF = int(1e9)\n",
    "graph = [[INF] * (n+1)  for _ in range(n+1)]"
   ]
  },
  {
   "cell_type": "code",
   "execution_count": 5,
   "metadata": {},
   "outputs": [
    {
     "data": {
      "text/plain": [
       "[[1000000000, 1000000000, 1000000000, 1000000000, 1000000000, 1000000000],\n",
       " [1000000000, 1000000000, 1000000000, 1000000000, 1000000000, 1000000000],\n",
       " [1000000000, 1000000000, 1000000000, 1000000000, 1000000000, 1000000000],\n",
       " [1000000000, 1000000000, 1000000000, 1000000000, 1000000000, 1000000000],\n",
       " [1000000000, 1000000000, 1000000000, 1000000000, 1000000000, 1000000000],\n",
       " [1000000000, 1000000000, 1000000000, 1000000000, 1000000000, 1000000000]]"
      ]
     },
     "execution_count": 5,
     "metadata": {},
     "output_type": "execute_result"
    }
   ],
   "source": [
    "graph"
   ]
  },
  {
   "cell_type": "code",
   "execution_count": 6,
   "metadata": {},
   "outputs": [],
   "source": [
    "for i in range(1, n+1):\n",
    "    graph[i][i] = 0"
   ]
  },
  {
   "cell_type": "code",
   "execution_count": 7,
   "metadata": {},
   "outputs": [
    {
     "data": {
      "text/plain": [
       "[[1000000000, 1000000000, 1000000000, 1000000000, 1000000000, 1000000000],\n",
       " [1000000000, 0, 1000000000, 1000000000, 1000000000, 1000000000],\n",
       " [1000000000, 1000000000, 0, 1000000000, 1000000000, 1000000000],\n",
       " [1000000000, 1000000000, 1000000000, 0, 1000000000, 1000000000],\n",
       " [1000000000, 1000000000, 1000000000, 1000000000, 0, 1000000000],\n",
       " [1000000000, 1000000000, 1000000000, 1000000000, 1000000000, 0]]"
      ]
     },
     "execution_count": 7,
     "metadata": {},
     "output_type": "execute_result"
    }
   ],
   "source": [
    "graph"
   ]
  },
  {
   "cell_type": "code",
   "execution_count": 8,
   "metadata": {},
   "outputs": [],
   "source": [
    "for _ in range(m):\n",
    "    a,b = map(int, input().split())\n",
    "    graph[a][b] = 1\n",
    "    graph[b][a] = 1"
   ]
  },
  {
   "cell_type": "code",
   "execution_count": 9,
   "metadata": {},
   "outputs": [],
   "source": [
    "x, k = map(int, input().split())"
   ]
  },
  {
   "cell_type": "code",
   "execution_count": 10,
   "metadata": {},
   "outputs": [],
   "source": [
    "for k in range(1, n+1):\n",
    "    for a in range(1, n+1):\n",
    "        for b in range(1, n+1):\n",
    "            graph[a][b] = min(graph[a][b], graph[a][k]+graph[k][b])"
   ]
  },
  {
   "cell_type": "code",
   "execution_count": 11,
   "metadata": {},
   "outputs": [
    {
     "data": {
      "text/plain": [
       "3"
      ]
     },
     "execution_count": 11,
     "metadata": {},
     "output_type": "execute_result"
    }
   ],
   "source": [
    "graph[1][k] + graph[k][x]"
   ]
  },
  {
   "cell_type": "code",
   "execution_count": null,
   "metadata": {},
   "outputs": [],
   "source": []
  }
 ],
 "metadata": {
  "kernelspec": {
   "display_name": "Python 3",
   "language": "python",
   "name": "python3"
  },
  "language_info": {
   "codemirror_mode": {
    "name": "ipython",
    "version": 3
   },
   "file_extension": ".py",
   "mimetype": "text/x-python",
   "name": "python",
   "nbconvert_exporter": "python",
   "pygments_lexer": "ipython3",
   "version": "3.8.10"
  },
  "orig_nbformat": 4
 },
 "nbformat": 4,
 "nbformat_minor": 2
}
