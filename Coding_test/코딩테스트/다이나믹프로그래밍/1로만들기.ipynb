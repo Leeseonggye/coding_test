{
 "cells": [
  {
   "cell_type": "code",
   "execution_count": 1,
   "metadata": {},
   "outputs": [],
   "source": [
    "x = int(input())"
   ]
  },
  {
   "cell_type": "code",
   "execution_count": 2,
   "metadata": {},
   "outputs": [],
   "source": [
    "# 1로 만들기\n",
    "\n",
    "d = [0] * 30001\n",
    "\n",
    "def min_times(x):\n",
    "    \n",
    "    for i in range(2, x + 1):\n",
    "        d[i] = d[i-1] + 1\n",
    "        \n",
    "        if i % 2 == 0:\n",
    "            d[i] = min(d[i], d[i//2] + 1)\n",
    "        \n",
    "        if i % 3 == 0:\n",
    "            d[i] = min(d[i], d[i//3] + 1)\n",
    "        \n",
    "        if i % 5 == 0:\n",
    "            d[i] = min(d[i], d[i//5] + 1)\n",
    "        \n",
    "    \n",
    "    return d[x]\n",
    "    "
   ]
  },
  {
   "cell_type": "code",
   "execution_count": 3,
   "metadata": {},
   "outputs": [
    {
     "data": {
      "text/plain": [
       "3"
      ]
     },
     "execution_count": 3,
     "metadata": {},
     "output_type": "execute_result"
    }
   ],
   "source": [
    "min_times(26)"
   ]
  },
  {
   "cell_type": "code",
   "execution_count": null,
   "metadata": {},
   "outputs": [],
   "source": [
    "# 개미 전사\n",
    "\n",
    "d = [0]"
   ]
  }
 ],
 "metadata": {
  "kernelspec": {
   "display_name": "Python 3",
   "language": "python",
   "name": "python3"
  },
  "language_info": {
   "codemirror_mode": {
    "name": "ipython",
    "version": 3
   },
   "file_extension": ".py",
   "mimetype": "text/x-python",
   "name": "python",
   "nbconvert_exporter": "python",
   "pygments_lexer": "ipython3",
   "version": "3.8.10"
  },
  "orig_nbformat": 4
 },
 "nbformat": 4,
 "nbformat_minor": 2
}
