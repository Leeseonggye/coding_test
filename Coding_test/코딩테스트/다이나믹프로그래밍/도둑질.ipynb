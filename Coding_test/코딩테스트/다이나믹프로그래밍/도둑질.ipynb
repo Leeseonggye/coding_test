{
 "cells": [
  {
   "cell_type": "code",
   "execution_count": 1,
   "metadata": {},
   "outputs": [],
   "source": [
    "money = [1, 2, 3, 1]\t"
   ]
  },
  {
   "cell_type": "code",
   "execution_count": 8,
   "metadata": {},
   "outputs": [],
   "source": [
    "def solution(money):\n",
    "    answer = 0\n",
    "    # 0번 선택\n",
    "    d_0 = [0] * len(money)\n",
    "    # 0번 선택 X\n",
    "    d_1 = [0] * len(money)\n",
    "    \n",
    "    d_0[0] = money[0]\n",
    "    d_0[1] = money[0]\n",
    "    d_0[2] = money[0] + money[2]\n",
    "    d_1[1] = money[1]\n",
    "    d_1[2] = max(money[1], money[2])\n",
    "    \n",
    "    for i in range(3, len(money)):\n",
    "        d_0[i] = max(d_0[i-2], d_0[i-3]+money[i-1])\n",
    "        d_1[i] = max(d_1[i-1], d_1[i-2]+money[i])\n",
    "    \n",
    "    return max(d_0[-1], d_1[-1])"
   ]
  },
  {
   "cell_type": "code",
   "execution_count": 7,
   "metadata": {},
   "outputs": [
    {
     "data": {
      "text/plain": [
       "4"
      ]
     },
     "execution_count": 7,
     "metadata": {},
     "output_type": "execute_result"
    }
   ],
   "source": [
    "solution(money)"
   ]
  },
  {
   "cell_type": "code",
   "execution_count": 9,
   "metadata": {},
   "outputs": [],
   "source": [
    "def solution(money):\n",
    "    answer = 0\n",
    "    # 0번 선택\n",
    "    d_0 = [0] * len(money)\n",
    "    # 0번 선택 X\n",
    "    d_1 = [0] * len(money)\n",
    "    \n",
    "    d_0[0] = money[0]\n",
    "    d_0[1] = max(money[0], money[1])\n",
    "    \n",
    "    d_1[1] = money[1]\n",
    "    \n",
    "    for i in range(2, len(money)-1):\n",
    "        d_0[i] = max(d_0[i-2] + money[i], d_0[i-1])\n",
    "    \n",
    "    for i in range(2, len(money)):\n",
    "        d_1[i] = max(d_1[i-1], d_1[i-2]+money[i])\n",
    "    \n",
    "    return max(max(d_0), max(d_1))"
   ]
  },
  {
   "cell_type": "code",
   "execution_count": null,
   "metadata": {},
   "outputs": [],
   "source": []
  }
 ],
 "metadata": {
  "kernelspec": {
   "display_name": "Python 3",
   "language": "python",
   "name": "python3"
  },
  "language_info": {
   "codemirror_mode": {
    "name": "ipython",
    "version": 3
   },
   "file_extension": ".py",
   "mimetype": "text/x-python",
   "name": "python",
   "nbconvert_exporter": "python",
   "pygments_lexer": "ipython3",
   "version": "3.8.10"
  },
  "orig_nbformat": 4
 },
 "nbformat": 4,
 "nbformat_minor": 2
}
