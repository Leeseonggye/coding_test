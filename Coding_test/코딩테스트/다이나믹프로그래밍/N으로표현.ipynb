{
 "cells": [
  {
   "cell_type": "code",
   "execution_count": 1,
   "metadata": {},
   "outputs": [],
   "source": [
    "N = 5\n",
    "number = 12"
   ]
  },
  {
   "cell_type": "code",
   "execution_count": 2,
   "metadata": {},
   "outputs": [],
   "source": [
    "def find_all_calculation(n, k):\n",
    "    if n == None:\n",
    "        return [k, -k]\n",
    "\n",
    "    return [n-k, n + k, n/k, n *k]"
   ]
  },
  {
   "cell_type": "code",
   "execution_count": null,
   "metadata": {},
   "outputs": [],
   "source": [
    "def solution(N, number):\n",
    "    if N == number:\n",
    "        return 1\n",
    "    \n",
    "    dp = []\n",
    "    dp.append([None])\n",
    "    dp.append([N, -N])\n",
    "    \n",
    "    for i in range(1,8):\n",
    "        temp = []\n",
    "        for value in dp[i]:\n",
    "            temp.extend(find_all_calculation(value, N))\n",
    "        \n",
    "        multiplier = 11\n",
    "        \n",
    "        for k in range(i):\n",
    "            for value in dp[i-k-1]:\n",
    "                temp.extend(find_all_calculation(value, N * multiplier))\n",
    "            \n",
    "            multiplier += 10 **(k+2)\n",
    "        \n",
    "        if number in temp:\n",
    "            return i+1\n",
    "        \n",
    "        dp.append(temp)\n",
    "    \n",
    "    return -1"
   ]
  },
  {
   "cell_type": "code",
   "execution_count": 3,
   "metadata": {},
   "outputs": [],
   "source": [
    "temp = []\n",
    "\n",
    "temp.extend(find_all_calculation(5, 5))"
   ]
  },
  {
   "cell_type": "code",
   "execution_count": 4,
   "metadata": {},
   "outputs": [
    {
     "data": {
      "text/plain": [
       "[0, 10, 1, 25]"
      ]
     },
     "execution_count": 4,
     "metadata": {},
     "output_type": "execute_result"
    }
   ],
   "source": [
    "temp"
   ]
  },
  {
   "cell_type": "code",
   "execution_count": null,
   "metadata": {},
   "outputs": [],
   "source": []
  }
 ],
 "metadata": {
  "kernelspec": {
   "display_name": "Python 3",
   "language": "python",
   "name": "python3"
  },
  "language_info": {
   "codemirror_mode": {
    "name": "ipython",
    "version": 3
   },
   "file_extension": ".py",
   "mimetype": "text/x-python",
   "name": "python",
   "nbconvert_exporter": "python",
   "pygments_lexer": "ipython3",
   "version": "3.8.10"
  },
  "orig_nbformat": 4
 },
 "nbformat": 4,
 "nbformat_minor": 2
}
