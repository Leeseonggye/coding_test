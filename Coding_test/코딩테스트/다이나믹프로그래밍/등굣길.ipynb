{
 "cells": [
  {
   "cell_type": "code",
   "execution_count": 1,
   "metadata": {},
   "outputs": [],
   "source": [
    "m = 4\n",
    "n = 3\n",
    "puddles = [[2, 2]]"
   ]
  },
  {
   "cell_type": "code",
   "execution_count": 8,
   "metadata": {},
   "outputs": [],
   "source": [
    "def solution(m, n, puddles):\n",
    "    answer = 0\n",
    "    route = [[1] * n for _ in range(m)]\n",
    "    route[0] = [1] * n\n",
    "    for i in range(m):\n",
    "        for j in range(n):\n",
    "            if [i+1, j+1] in puddles:\n",
    "                route[i][j] = 0\n",
    "            else:\n",
    "                if i > 0 and j > 0 :\n",
    "                    route[i][j] = route[i-1][j] + route[i][j-1]\n",
    "                \n",
    "                elif i == 0 and j != 0 :\n",
    "                    route[i][j] = route[i][j-1]\n",
    "                \n",
    "                elif i != 0 and j == 0 :\n",
    "                    route[i][j] = route[i-1][j]\n",
    "                \n",
    "                elif i == 0 and j == 0:\n",
    "                    route[i][j] = 1\n",
    "                \n",
    "    \n",
    "    return route[m-1][n-1]"
   ]
  },
  {
   "cell_type": "code",
   "execution_count": 9,
   "metadata": {},
   "outputs": [
    {
     "data": {
      "text/plain": [
       "4"
      ]
     },
     "execution_count": 9,
     "metadata": {},
     "output_type": "execute_result"
    }
   ],
   "source": [
    "solution(m, n, puddles)"
   ]
  },
  {
   "cell_type": "code",
   "execution_count": 7,
   "metadata": {},
   "outputs": [
    {
     "data": {
      "text/plain": [
       "[[1, 1, 1], [1, 1, 1], [1, 1, 1], [1, 1, 1]]"
      ]
     },
     "execution_count": 7,
     "metadata": {},
     "output_type": "execute_result"
    }
   ],
   "source": [
    "route = [[1] * n for _ in range(m)]\n",
    "route"
   ]
  },
  {
   "cell_type": "code",
   "execution_count": null,
   "metadata": {},
   "outputs": [],
   "source": [
    "\n",
    "\n"
   ]
  }
 ],
 "metadata": {
  "kernelspec": {
   "display_name": "Python 3",
   "language": "python",
   "name": "python3"
  },
  "language_info": {
   "codemirror_mode": {
    "name": "ipython",
    "version": 3
   },
   "file_extension": ".py",
   "mimetype": "text/x-python",
   "name": "python",
   "nbconvert_exporter": "python",
   "pygments_lexer": "ipython3",
   "version": "3.8.10"
  },
  "orig_nbformat": 4
 },
 "nbformat": 4,
 "nbformat_minor": 2
}
