{
 "cells": [
  {
   "cell_type": "code",
   "execution_count": 2,
   "metadata": {},
   "outputs": [],
   "source": [
    "n, m = map(int, input().split())"
   ]
  },
  {
   "cell_type": "code",
   "execution_count": 3,
   "metadata": {},
   "outputs": [],
   "source": [
    "array = list(map(int, input().split()))"
   ]
  },
  {
   "cell_type": "code",
   "execution_count": 7,
   "metadata": {},
   "outputs": [],
   "source": [
    "# 순차 탐색\n",
    "\n",
    "def solution(n, m, array):\n",
    "    \n",
    "    def cut(cut_length, length):\n",
    "        if cut_length > length:\n",
    "            return 0\n",
    "        \n",
    "        else:\n",
    "            return length-cut_length\n",
    "    \n",
    "    for cut_length in range(max(array), 0, -1):\n",
    "        total_length = 0\n",
    "        for length in array:\n",
    "            total_length += cut(cut_length, length)\n",
    "        \n",
    "        if total_length == m:\n",
    "            return cut_length\n",
    "    \n",
    "    return 0"
   ]
  },
  {
   "cell_type": "code",
   "execution_count": null,
   "metadata": {},
   "outputs": [],
   "source": [
    "# 이진 탐색\n",
    "\n",
    "def solution(n, m, array):\n",
    "    \n",
    "    def cut(cut_length, length):\n",
    "        if cut_length > length:\n",
    "            return 0\n",
    "        \n",
    "        else:\n",
    "            return length-cut_length\n",
    "    \n",
    "    \n",
    "    def binary_search(array, target, start, end):\n",
    "        if start > end:\n",
    "            return False\n",
    "        \n",
    "        mid = (start + end) //2\n",
    "        \n",
    "        if array[mid] == target:\n",
    "            return mid\n",
    "        \n",
    "        if array[mid] > target:\n",
    "            return binary_search(array, target, start, mid -1)\n",
    "        \n",
    "        else:\n",
    "            return binary_search(array, target, mid+1, end)\n",
    "        \n",
    "    \n",
    "    "
   ]
  },
  {
   "cell_type": "code",
   "execution_count": 17,
   "metadata": {},
   "outputs": [],
   "source": [
    "def solution(n, m, array):\n",
    "    \n",
    "    def cut(cut_length, length):\n",
    "        if cut_length > length:\n",
    "            return 0\n",
    "        \n",
    "        else:\n",
    "            return length-cut_length\n",
    "    \n",
    "    def length_cal(array, cut_length):\n",
    "        total_length = 0\n",
    "        for length in array:\n",
    "            total_length += cut(cut_length, length)\n",
    "        \n",
    "        return total_length\n",
    "    \n",
    "    start = 0\n",
    "    end = max(array)\n",
    "    result = 0\n",
    "    \n",
    "    while start<=end:\n",
    "        mid = (start+end)//2\n",
    "        \n",
    "        total = length_cal(array, mid)\n",
    "        \n",
    "        if total < m:\n",
    "            end = mid -1\n",
    "        \n",
    "        else:\n",
    "            result = mid\n",
    "            start = mid + 1\n",
    "    \n",
    "    return result\n",
    "        \n",
    "        \n",
    "        "
   ]
  },
  {
   "cell_type": "code",
   "execution_count": 15,
   "metadata": {},
   "outputs": [
    {
     "data": {
      "text/plain": [
       "(4, 6, [19, 15, 10, 17])"
      ]
     },
     "execution_count": 15,
     "metadata": {},
     "output_type": "execute_result"
    }
   ],
   "source": [
    "n, m, array"
   ]
  },
  {
   "cell_type": "code",
   "execution_count": 18,
   "metadata": {},
   "outputs": [
    {
     "data": {
      "text/plain": [
       "15"
      ]
     },
     "execution_count": 18,
     "metadata": {},
     "output_type": "execute_result"
    }
   ],
   "source": [
    "solution(n, m, array)"
   ]
  },
  {
   "cell_type": "code",
   "execution_count": 6,
   "metadata": {},
   "outputs": [
    {
     "name": "stdout",
     "output_type": "stream",
     "text": [
      "19\n",
      "18\n",
      "17\n",
      "16\n",
      "15\n",
      "14\n",
      "13\n",
      "12\n",
      "11\n",
      "10\n",
      "9\n",
      "8\n",
      "7\n",
      "6\n",
      "5\n",
      "4\n",
      "3\n",
      "2\n",
      "1\n"
     ]
    }
   ],
   "source": [
    "for i in range(max(array),0,-1):\n",
    "    print(i)"
   ]
  },
  {
   "cell_type": "code",
   "execution_count": null,
   "metadata": {},
   "outputs": [],
   "source": []
  }
 ],
 "metadata": {
  "kernelspec": {
   "display_name": "Python 3",
   "language": "python",
   "name": "python3"
  },
  "language_info": {
   "codemirror_mode": {
    "name": "ipython",
    "version": 3
   },
   "file_extension": ".py",
   "mimetype": "text/x-python",
   "name": "python",
   "nbconvert_exporter": "python",
   "pygments_lexer": "ipython3",
   "version": "3.8.10"
  },
  "orig_nbformat": 4
 },
 "nbformat": 4,
 "nbformat_minor": 2
}
