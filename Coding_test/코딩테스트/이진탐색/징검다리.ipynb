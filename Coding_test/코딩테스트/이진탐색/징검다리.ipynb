{
 "cells": [
  {
   "cell_type": "code",
   "execution_count": 1,
   "metadata": {},
   "outputs": [],
   "source": [
    "def solution(distance, rocks, n):\n",
    "    answer = 0\n",
    "    return answer"
   ]
  },
  {
   "cell_type": "code",
   "execution_count": 2,
   "metadata": {},
   "outputs": [],
   "source": [
    "distance = 25\n",
    "rocks = [2, 14, 11, 21, 17]\t\n",
    "n = 2"
   ]
  },
  {
   "cell_type": "code",
   "execution_count": 3,
   "metadata": {},
   "outputs": [],
   "source": [
    "rocks.sort()"
   ]
  },
  {
   "cell_type": "code",
   "execution_count": 4,
   "metadata": {},
   "outputs": [
    {
     "data": {
      "text/plain": [
       "[2, 11, 14, 17, 21]"
      ]
     },
     "execution_count": 4,
     "metadata": {},
     "output_type": "execute_result"
    }
   ],
   "source": [
    "rocks"
   ]
  },
  {
   "cell_type": "code",
   "execution_count": 14,
   "metadata": {},
   "outputs": [],
   "source": [
    "def distnace(rocks, distance):\n",
    "    distance_list = []\n",
    "    \n",
    "    for i in range(len(rocks)):\n",
    "        \n",
    "        if i == len(rocks) - 1:\n",
    "            distance_list.append(distance - rocks[len(rocks)-1])\n",
    "        \n",
    "        if i == 0:\n",
    "            distance_list.append(rocks[0])\n",
    "        \n",
    "        else:\n",
    "            distance_list.append(rocks[i] - rocks[i-1])\n",
    "    \n",
    "    return distance_list\n",
    "        "
   ]
  },
  {
   "cell_type": "code",
   "execution_count": 22,
   "metadata": {},
   "outputs": [],
   "source": [
    "distance_list = distnace(rocks, distance)"
   ]
  },
  {
   "cell_type": "code",
   "execution_count": 23,
   "metadata": {},
   "outputs": [
    {
     "data": {
      "text/plain": [
       "[2, 9, 3, 3, 4, 4]"
      ]
     },
     "execution_count": 23,
     "metadata": {},
     "output_type": "execute_result"
    }
   ],
   "source": [
    "distance_list"
   ]
  },
  {
   "cell_type": "code",
   "execution_count": 27,
   "metadata": {},
   "outputs": [
    {
     "data": {
      "text/plain": [
       "0"
      ]
     },
     "execution_count": 27,
     "metadata": {},
     "output_type": "execute_result"
    }
   ],
   "source": [
    "distance_list.index(min(distance_list))"
   ]
  },
  {
   "cell_type": "code",
   "execution_count": null,
   "metadata": {},
   "outputs": [],
   "source": []
  },
  {
   "cell_type": "code",
   "execution_count": 39,
   "metadata": {},
   "outputs": [],
   "source": [
    "def distnace(rocks, distance):\n",
    "    rocks.sort()\n",
    "    distance_list = []\n",
    "    \n",
    "    for i in range(len(rocks)):\n",
    "        \n",
    "        if i == len(rocks) - 1:\n",
    "            distance_list.append(distance - rocks[len(rocks)-1])\n",
    "        \n",
    "        if i == 0:\n",
    "            distance_list.append(rocks[0])\n",
    "        \n",
    "        else:\n",
    "            distance_list.append(rocks[i] - rocks[i-1])\n",
    "    \n",
    "    return distance_list\n",
    "        \n",
    "def iteration(distance_list, n):    \n",
    "    for iter in range(n):\n",
    "        min_index = distance_list.index(min(distance_list))\n",
    "        min_dist = distance_list.pop(min_index)\n",
    "        min_neighbor = distance_list.pop(min_index+1)\n",
    "        distance_list.insert(min_index, min_dist + min_neighbor)\n",
    "    \n",
    "    return distance_list\n",
    "\n",
    "        \n",
    "        \n",
    "    "
   ]
  },
  {
   "cell_type": "code",
   "execution_count": 36,
   "metadata": {},
   "outputs": [],
   "source": [
    "distance = 25\n",
    "rocks = [2, 14, 11, 21, 17]\t\n",
    "n = 2"
   ]
  },
  {
   "cell_type": "code",
   "execution_count": 37,
   "metadata": {},
   "outputs": [
    {
     "data": {
      "text/plain": [
       "[2, 12, -3, 10, 8, -4]"
      ]
     },
     "execution_count": 37,
     "metadata": {},
     "output_type": "execute_result"
    }
   ],
   "source": [
    "distance_list = distnace(rocks, distance)\n",
    "distance_list"
   ]
  },
  {
   "cell_type": "code",
   "execution_count": 30,
   "metadata": {},
   "outputs": [
    {
     "data": {
      "text/plain": [
       "[5, 9, 7, 4]"
      ]
     },
     "execution_count": 30,
     "metadata": {},
     "output_type": "execute_result"
    }
   ],
   "source": [
    "iteration(distance_list, n)"
   ]
  },
  {
   "cell_type": "code",
   "execution_count": null,
   "metadata": {},
   "outputs": [],
   "source": [
    "# 이진탐색 재귀\n",
    "\n",
    "def binary_search(array, target, start, end):\n",
    "    if start > end:\n",
    "        return None\n",
    "    \n",
    "    mid = (start + end) //2\n",
    "    \n",
    "    if target == array[mid]:\n",
    "        return mid\n",
    "    \n",
    "    if target < array[mid]:\n",
    "        return binary_search(array, target, start, mid-1)\n",
    "    \n",
    "    else:\n",
    "        return binary_search(array, target, mid+1, end)"
   ]
  },
  {
   "cell_type": "code",
   "execution_count": 17,
   "metadata": {},
   "outputs": [
    {
     "data": {
      "text/plain": [
       "[2, 9, 3, 3, 4, 4]"
      ]
     },
     "execution_count": 17,
     "metadata": {},
     "output_type": "execute_result"
    }
   ],
   "source": [
    "distance_list"
   ]
  },
  {
   "cell_type": "code",
   "execution_count": 31,
   "metadata": {},
   "outputs": [],
   "source": [
    "distance = 25\n",
    "rocks = [2, 14, 11, 21, 17]\t\n",
    "n = 2"
   ]
  },
  {
   "cell_type": "code",
   "execution_count": 40,
   "metadata": {},
   "outputs": [],
   "source": [
    "def distnace(rocks, distance):\n",
    "    rocks.sort()\n",
    "    distance_list = []\n",
    "    \n",
    "    for i in range(len(rocks)):\n",
    "        \n",
    "        if i == len(rocks) - 1:\n",
    "            distance_list.append(distance - rocks[len(rocks)-1])\n",
    "        \n",
    "        if i == 0:\n",
    "            distance_list.append(rocks[0])\n",
    "        \n",
    "        else:\n",
    "            distance_list.append(rocks[i] - rocks[i-1])\n",
    "    \n",
    "    return distance_list\n",
    "        \n",
    "def iteration(distance_list, n):    \n",
    "    for iter in range(n):\n",
    "        min_index = distance_list.index(min(distance_list))\n",
    "        min_dist = distance_list.pop(min_index)\n",
    "        min_neighbor = distance_list.pop(min_index+1)\n",
    "        distance_list.insert(min_index, min_dist + min_neighbor)\n",
    "    \n",
    "    return distance_list\n",
    "\n",
    "def solution(distance, rocks, n):\n",
    "    distance_list = distnace(rocks, distance)\n",
    "    answer = min(iteration(distance_list, n))\n",
    "    return answer"
   ]
  },
  {
   "cell_type": "code",
   "execution_count": 43,
   "metadata": {},
   "outputs": [],
   "source": [
    "distance = 25\n",
    "rocks = [2, 14, 11, 21, 17]\t\n",
    "n = 2"
   ]
  },
  {
   "cell_type": "code",
   "execution_count": 44,
   "metadata": {},
   "outputs": [
    {
     "data": {
      "text/plain": [
       "4"
      ]
     },
     "execution_count": 44,
     "metadata": {},
     "output_type": "execute_result"
    }
   ],
   "source": [
    "solution(distance, rocks, n)"
   ]
  },
  {
   "cell_type": "code",
   "execution_count": 42,
   "metadata": {},
   "outputs": [
    {
     "data": {
      "text/plain": [
       "[2, 9, 3, 3, 4, 4]"
      ]
     },
     "execution_count": 42,
     "metadata": {},
     "output_type": "execute_result"
    }
   ],
   "source": [
    "distance_list = distnace(rocks, distance)\n",
    "distance_list"
   ]
  },
  {
   "cell_type": "code",
   "execution_count": 33,
   "metadata": {},
   "outputs": [
    {
     "ename": "IndexError",
     "evalue": "pop index out of range",
     "output_type": "error",
     "traceback": [
      "\u001b[0;31m---------------------------------------------------------------------------\u001b[0m",
      "\u001b[0;31mIndexError\u001b[0m                                Traceback (most recent call last)",
      "Cell \u001b[0;32mIn[33], line 1\u001b[0m\n\u001b[0;32m----> 1\u001b[0m solution(distance, rocks, n)\n",
      "Cell \u001b[0;32mIn[32], line 28\u001b[0m, in \u001b[0;36msolution\u001b[0;34m(distance, rocks, n)\u001b[0m\n\u001b[1;32m     26\u001b[0m \u001b[39mdef\u001b[39;00m \u001b[39msolution\u001b[39m(distance, rocks, n):\n\u001b[1;32m     27\u001b[0m     distance_list \u001b[39m=\u001b[39m distnace(rocks, distance)\n\u001b[0;32m---> 28\u001b[0m     answer \u001b[39m=\u001b[39m \u001b[39mmin\u001b[39m(iteration(distance_list, n))\n\u001b[1;32m     29\u001b[0m     \u001b[39mreturn\u001b[39;00m answer\n",
      "Cell \u001b[0;32mIn[32], line 21\u001b[0m, in \u001b[0;36miteration\u001b[0;34m(distance_list, n)\u001b[0m\n\u001b[1;32m     19\u001b[0m     min_index \u001b[39m=\u001b[39m distance_list\u001b[39m.\u001b[39mindex(\u001b[39mmin\u001b[39m(distance_list))\n\u001b[1;32m     20\u001b[0m     min_dist \u001b[39m=\u001b[39m distance_list\u001b[39m.\u001b[39mpop(min_index)\n\u001b[0;32m---> 21\u001b[0m     min_neighbor \u001b[39m=\u001b[39m distance_list\u001b[39m.\u001b[39;49mpop(min_index\u001b[39m+\u001b[39;49m\u001b[39m1\u001b[39;49m)\n\u001b[1;32m     22\u001b[0m     distance_list\u001b[39m.\u001b[39minsert(min_index, min_dist \u001b[39m+\u001b[39m min_neighbor)\n\u001b[1;32m     24\u001b[0m \u001b[39mreturn\u001b[39;00m distance_list\n",
      "\u001b[0;31mIndexError\u001b[0m: pop index out of range"
     ]
    }
   ],
   "source": [
    "solution(distance, rocks, n)"
   ]
  },
  {
   "cell_type": "code",
   "execution_count": null,
   "metadata": {},
   "outputs": [],
   "source": []
  }
 ],
 "metadata": {
  "kernelspec": {
   "display_name": "Python 3",
   "language": "python",
   "name": "python3"
  },
  "language_info": {
   "codemirror_mode": {
    "name": "ipython",
    "version": 3
   },
   "file_extension": ".py",
   "mimetype": "text/x-python",
   "name": "python",
   "nbconvert_exporter": "python",
   "pygments_lexer": "ipython3",
   "version": "3.8.10"
  },
  "orig_nbformat": 4
 },
 "nbformat": 4,
 "nbformat_minor": 2
}
