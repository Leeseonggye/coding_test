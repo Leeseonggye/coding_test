{
 "cells": [
  {
   "cell_type": "code",
   "execution_count": 36,
   "metadata": {},
   "outputs": [],
   "source": [
    "n = 6\n",
    "times = [7, 10]"
   ]
  },
  {
   "cell_type": "code",
   "execution_count": 39,
   "metadata": {},
   "outputs": [],
   "source": [
    "def solution(n, times):\n",
    "    answer = n * min(times)\n",
    "    \n",
    "    def num_people(times, total_time):\n",
    "        num = 0\n",
    "        for time in times:\n",
    "            num += total_time//time\n",
    "        \n",
    "        return num\n",
    "    \n",
    "    start = 0\n",
    "    end = answer\n",
    "    result = 0\n",
    "    \n",
    "    while start <= end:\n",
    "        mid = (start + end) //2\n",
    "        num = num_people(times, mid)\n",
    "        \n",
    "        if num < n:\n",
    "            start = mid + 1\n",
    "        \n",
    "        else:\n",
    "            end = mid -1\n",
    "            result = mid\n",
    "\n",
    "    \n",
    "    \n",
    "    return result"
   ]
  },
  {
   "cell_type": "code",
   "execution_count": 40,
   "metadata": {},
   "outputs": [
    {
     "data": {
      "text/plain": [
       "28"
      ]
     },
     "execution_count": 40,
     "metadata": {},
     "output_type": "execute_result"
    }
   ],
   "source": [
    "solution(n, times)"
   ]
  },
  {
   "cell_type": "code",
   "execution_count": null,
   "metadata": {},
   "outputs": [],
   "source": []
  },
  {
   "cell_type": "code",
   "execution_count": 23,
   "metadata": {},
   "outputs": [],
   "source": [
    "def num_people(times, total_time):\n",
    "    num = 0\n",
    "    for time in times:\n",
    "        num += total_time//time\n",
    "    \n",
    "    return num"
   ]
  },
  {
   "cell_type": "code",
   "execution_count": 26,
   "metadata": {},
   "outputs": [
    {
     "data": {
      "text/plain": [
       "6"
      ]
     },
     "execution_count": 26,
     "metadata": {},
     "output_type": "execute_result"
    }
   ],
   "source": [
    "num_people(times, 25)"
   ]
  },
  {
   "cell_type": "code",
   "execution_count": 7,
   "metadata": {},
   "outputs": [
    {
     "data": {
      "text/plain": [
       "0"
      ]
     },
     "execution_count": 7,
     "metadata": {},
     "output_type": "execute_result"
    }
   ],
   "source": [
    "solution(n, times)"
   ]
  },
  {
   "cell_type": "code",
   "execution_count": null,
   "metadata": {},
   "outputs": [],
   "source": [
    "def solution(n, m, array):\n",
    "    \n",
    "    def cut(cut_length, length):\n",
    "        if cut_length > length:\n",
    "            return 0\n",
    "        \n",
    "        else:\n",
    "            return length-cut_length\n",
    "    \n",
    "    def length_cal(array, cut_length):\n",
    "        total_length = 0\n",
    "        for length in array:\n",
    "            total_length += cut(cut_length, length)\n",
    "        \n",
    "        return total_length\n",
    "    \n",
    "    start = 0\n",
    "    end = max(array)\n",
    "    result = 0\n",
    "    \n",
    "    while start<=end:\n",
    "        mid = (start+end)//2\n",
    "        \n",
    "        total = length_cal(array, mid)\n",
    "        \n",
    "        if total < m:\n",
    "            end = mid -1\n",
    "        \n",
    "        else:\n",
    "            result = mid\n",
    "            start = mid + 1\n",
    "    \n",
    "    return result\n",
    "        "
   ]
  }
 ],
 "metadata": {
  "kernelspec": {
   "display_name": "Python 3",
   "language": "python",
   "name": "python3"
  },
  "language_info": {
   "codemirror_mode": {
    "name": "ipython",
    "version": 3
   },
   "file_extension": ".py",
   "mimetype": "text/x-python",
   "name": "python",
   "nbconvert_exporter": "python",
   "pygments_lexer": "ipython3",
   "version": "3.8.10"
  },
  "orig_nbformat": 4
 },
 "nbformat": 4,
 "nbformat_minor": 2
}
