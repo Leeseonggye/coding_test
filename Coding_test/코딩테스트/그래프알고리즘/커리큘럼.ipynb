{
 "cells": [
  {
   "cell_type": "code",
   "execution_count": 1,
   "metadata": {},
   "outputs": [],
   "source": [
    "v = int(input())\n",
    "indegree = [0] * (v+1)\n",
    "graph = [[] for i in range(v+1)]\n",
    "time = [0] * (v+1)\n",
    "\n",
    "for i in range(1, v+1):\n",
    "    data = list(map(int, input().split()))\n",
    "    time[i] = data[0]\n",
    "    \n",
    "    for x in data[1:-1]:\n",
    "        indegree[i]+=1\n",
    "        graph[x].append(i)"
   ]
  },
  {
   "cell_type": "code",
   "execution_count": 2,
   "metadata": {},
   "outputs": [
    {
     "name": "stdout",
     "output_type": "stream",
     "text": [
      "10\n",
      "20\n",
      "14\n",
      "18\n",
      "17\n"
     ]
    }
   ],
   "source": [
    "from collections import deque\n",
    "import copy\n",
    "def topology_sort():\n",
    "    q = deque()\n",
    "    result = copy.deepcopy(time)\n",
    "    \n",
    "    for i in range(1, v+1):\n",
    "        if indegree[i] == 0:\n",
    "            q.append(i)\n",
    "    \n",
    "    while q:\n",
    "        now = q.popleft()\n",
    "        \n",
    "        for i in graph[now]:\n",
    "            result[i] = max(result[i], result[now] + time[i])\n",
    "            indegree[i] -= 1\n",
    "            \n",
    "            if indegree[i] == 0:\n",
    "                q.append(i)\n",
    "    \n",
    "    for i in range(1, v+1):\n",
    "        print(result[i])\n",
    "\n",
    "topology_sort()"
   ]
  },
  {
   "cell_type": "code",
   "execution_count": null,
   "metadata": {},
   "outputs": [],
   "source": []
  }
 ],
 "metadata": {
  "kernelspec": {
   "display_name": "Python 3",
   "language": "python",
   "name": "python3"
  },
  "language_info": {
   "codemirror_mode": {
    "name": "ipython",
    "version": 3
   },
   "file_extension": ".py",
   "mimetype": "text/x-python",
   "name": "python",
   "nbconvert_exporter": "python",
   "pygments_lexer": "ipython3",
   "version": "3.8.10"
  },
  "orig_nbformat": 4
 },
 "nbformat": 4,
 "nbformat_minor": 2
}
