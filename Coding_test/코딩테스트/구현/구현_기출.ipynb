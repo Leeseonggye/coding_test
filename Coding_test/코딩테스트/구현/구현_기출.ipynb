{
 "cells": [
  {
   "cell_type": "code",
   "execution_count": 10,
   "metadata": {},
   "outputs": [],
   "source": [
    "# 럭키 스트레이트\n",
    "n = int(input())"
   ]
  },
  {
   "cell_type": "code",
   "execution_count": 16,
   "metadata": {},
   "outputs": [],
   "source": [
    "def solution(n):\n",
    "    n = str(n)\n",
    "    \n",
    "    left_sum = 0\n",
    "    right_sum = 0\n",
    "    for i in range(len(n)//2):\n",
    "        left_sum += int(n[i])\n",
    "    \n",
    "    for j in range(len(n)//2, len(n)):\n",
    "        right_sum += int(n[j])\n",
    "    \n",
    "    if left_sum == right_sum:\n",
    "        print(\"LUCKY\")\n",
    "    \n",
    "    else:\n",
    "        print(\"READY\")\n",
    "        "
   ]
  },
  {
   "cell_type": "code",
   "execution_count": 15,
   "metadata": {},
   "outputs": [
    {
     "data": {
      "text/plain": [
       "3"
      ]
     },
     "execution_count": 15,
     "metadata": {},
     "output_type": "execute_result"
    }
   ],
   "source": [
    "len(n)//2"
   ]
  },
  {
   "cell_type": "code",
   "execution_count": 18,
   "metadata": {},
   "outputs": [],
   "source": [
    "a = '123cab'"
   ]
  },
  {
   "cell_type": "code",
   "execution_count": 25,
   "metadata": {},
   "outputs": [],
   "source": [
    "# 문자열 재정렬\n",
    "def solution(s):\n",
    "    x = []\n",
    "    sum = 0\n",
    "    for val in s:\n",
    "        if val.isalpha():\n",
    "            x.append(val)\n",
    "        \n",
    "        else:\n",
    "            sum += int(val)\n",
    "    \n",
    "    x.sort()\n",
    "    answer = ''\n",
    "    for alpha in x:\n",
    "        answer += alpha\n",
    "    \n",
    "    return answer + str(sum)"
   ]
  },
  {
   "cell_type": "code",
   "execution_count": null,
   "metadata": {},
   "outputs": [],
   "source": [
    "# 문자열 압축\n",
    "def solution(s):\n",
    "    answer = 0\n",
    "    return answer"
   ]
  },
  {
   "cell_type": "code",
   "execution_count": 75,
   "metadata": {},
   "outputs": [],
   "source": [
    "s = 'xyabababababx'\n",
    "\n",
    "def split(s, n):\n",
    "    count = 1\n",
    "    value = ''\n",
    "    max_range = (len(s)//n)\n",
    "    for i in range(max_range):\n",
    "        if s[i*n:(i+1)*n] == s[(i+1)*n:(i+2)*n]:\n",
    "            count +=1\n",
    "        \n",
    "        else:\n",
    "            if count == 1:\n",
    "                value += s[i*n:(i+1)*n]\n",
    "            else:\n",
    "                value += str(count) + s[i*n:(i+1)*n]\n",
    "                \n",
    "            count = 1\n",
    "    \n",
    "    if len(s) % n != 0:\n",
    "        value += s[-(len(s) % n):]\n",
    "    \n",
    "    return value\n",
    "    "
   ]
  },
  {
   "cell_type": "code",
   "execution_count": 84,
   "metadata": {},
   "outputs": [],
   "source": [
    "import math\n",
    "def solution(s):\n",
    "    def split(s, n):\n",
    "        count = 1\n",
    "        value = ''\n",
    "        max_range = (len(s)//n)\n",
    "        for i in range(max_range):\n",
    "            if s[i*n:(i+1)*n] == s[(i+1)*n:(i+2)*n]:\n",
    "                count +=1\n",
    "            \n",
    "            else:\n",
    "                if count == 1:\n",
    "                    value += s[i*n:(i+1)*n]\n",
    "                else:\n",
    "                    value += str(count) + s[i*n:(i+1)*n]\n",
    "                    \n",
    "                count = 1\n",
    "        \n",
    "        if len(s) % n != 0:\n",
    "            value += s[-(len(s) % n):]\n",
    "        \n",
    "        return len(value)\n",
    "    \n",
    "    answer = len(s)\n",
    "    for i in range(1, math.ceil(len(s)/2)):\n",
    "        answer = min(answer, split(s, i))\n",
    "        \n",
    "    return answer"
   ]
  },
  {
   "cell_type": "code",
   "execution_count": 12,
   "metadata": {},
   "outputs": [],
   "source": [
    "def turn(key):\n",
    "    turn_key = []\n",
    "    for i in range(len(key)):\n",
    "        temp = [key[j][i] for j in range(len(key))]\n",
    "        temp.reverse()\n",
    "        turn_key.append(temp)\n",
    "        \n",
    "    \n",
    "    return turn_key\n",
    "            "
   ]
  },
  {
   "cell_type": "code",
   "execution_count": 13,
   "metadata": {},
   "outputs": [],
   "source": [
    "def turn(key):\n",
    "    turn_key = []\n",
    "    for i in range(len(key)):\n",
    "        temp = [key[j][i] for j in range(len(key))]\n",
    "        temp.reverse()\n",
    "        turn_key.append(temp)\n",
    "        \n",
    "    return turn_key\n",
    "\n",
    "def pooling(lock, key):\n",
    "    pooled = [[0] * (len(lock)+2*(len(key)-1)) for _ in range(len(key)-1)]\n",
    "    \n",
    "    for row in lock:\n",
    "        temp = [0] * (len(key)-1) + row + [0] * (len(key)-1)\n",
    "        pooled.append(temp)\n",
    "    \n",
    "    pooled.append([[0] * (len(lock)+2*(len(key)-1)) for _ in range(len(key)-1)])\n",
    "    \n",
    "    return pooled\n",
    "\n",
    "def check(lock, key):\n",
    "    check = 0\n",
    "    for i in range(len(key)):\n",
    "        for j in range(len(key)):\n",
    "            if lock[i][j] == 0 and key[i][j] == 1:\n",
    "                check += 1\n",
    "            \n",
    "            if lock[i][j] * key[i][j] == 1:\n",
    "                check = -1\n",
    "                break\n",
    "    total = 0\n",
    "    for j in lock:\n",
    "        total +=sum(j)\n",
    "    \n",
    "    if check == total:\n",
    "        return True\n",
    "    \n",
    "    else:\n",
    "        return False\n",
    "        "
   ]
  },
  {
   "cell_type": "code",
   "execution_count": 14,
   "metadata": {},
   "outputs": [],
   "source": [
    "def check(lock, key):\n",
    "    check = 0\n",
    "    for i in range(len(key)):\n",
    "        for j in range(len(key)):\n",
    "            if lock[i][j] == 0 and key[i][j] == 1:\n",
    "                check += 1\n",
    "            \n",
    "            if lock[i][j] * key[i][j] == 1:\n",
    "                check = -1\n",
    "                break\n",
    "    total = 0\n",
    "    for j in lock:\n",
    "        total +=sum(j)\n",
    "    \n",
    "    if check == total:\n",
    "        return True\n",
    "    \n",
    "    else:\n",
    "        return False"
   ]
  },
  {
   "cell_type": "code",
   "execution_count": 169,
   "metadata": {},
   "outputs": [],
   "source": [
    "def solution(key, lock):\n",
    "    def turn(key):\n",
    "        turn_key = []\n",
    "        for i in range(len(key)):\n",
    "            temp = [key[j][i] for j in range(len(key))]\n",
    "            temp.reverse()\n",
    "            turn_key.append(temp)\n",
    "            \n",
    "        return turn_key\n",
    "\n",
    "    def pooling(lock, key):\n",
    "        pooled = [[-1] * (len(lock)+2*(len(key)-1)) for _ in range(len(key)-1)]\n",
    "        \n",
    "        for row in lock:\n",
    "            temp = [-1] * (len(key)-1) + row + [-1] * (len(key)-1)\n",
    "            pooled.append(temp)\n",
    "        \n",
    "        pooled.append([[-1] * (len(lock)+2*(len(key)-1)) for _ in range(len(key)-1)])\n",
    "        \n",
    "        return pooled\n",
    "\n",
    "    def check(lock, key, total):\n",
    "        check = 0\n",
    "        \n",
    "        for i in range(len(key)):\n",
    "            for j in range(len(key)):\n",
    "                if lock[i][j] == 0 and key[i][j] == 1:\n",
    "                    check += 1\n",
    "                \n",
    "                if lock[i][j] * key[i][j] == 1:\n",
    "                    check = -1\n",
    "                    break\n",
    "      \n",
    "      \n",
    "        if check == total:\n",
    "            return True\n",
    "        \n",
    "        else:\n",
    "            return False\n",
    "    \n",
    "    def slicing(lock, key, row, column):\n",
    "        row_slice = lock[row:row+len(key)]\n",
    "        column_slice = []\n",
    "        \n",
    "        for row in row_slice:\n",
    "            column_slice.append(row[column:column+len(key)])\n",
    "        \n",
    "        return column_slice\n",
    "        \n",
    "    pooled_lock = pooling(lock, key)\n",
    "    \n",
    "    total = 0\n",
    "    \n",
    "    for j in lock:\n",
    "        total += j.count(0)\n",
    "        \n",
    "    print(f\"total: {total}\")\n",
    "    for _ in range(4):\n",
    "        key = turn(key)\n",
    "        for row in range(len(lock)):\n",
    "            for column in range(len(lock)):\n",
    "                sliced_lock = slicing(pooled_lock, key, row, column)\n",
    "\n",
    "                answer = check(sliced_lock, key, total)\n",
    "                if answer == True:\n",
    "                    return True\n",
    "    \n",
    "    return False\n",
    "    "
   ]
  },
  {
   "cell_type": "code",
   "execution_count": 177,
   "metadata": {},
   "outputs": [],
   "source": [
    "def solution(key, lock):\n",
    "    def turn(key):\n",
    "        turn_key = []\n",
    "        for i in range(len(key)):\n",
    "            temp = [key[j][i] for j in range(len(key))]\n",
    "            temp.reverse()\n",
    "            turn_key.append(temp)\n",
    "            \n",
    "        return turn_key\n",
    "\n",
    "    def pooling(lock, key):\n",
    "        pooled = [[-1] * (len(lock)+2*(len(key))) for _ in range(len(key))]\n",
    "        \n",
    "        for row in lock:\n",
    "            temp = [-1] * (len(key)) + row + [-1] * (len(key))\n",
    "            pooled.append(temp)\n",
    "        \n",
    "        pooled.append([[-1] * (len(lock)+2*(len(key))) for _ in range(len(key))])\n",
    "        \n",
    "        return pooled\n",
    "\n",
    "    def check(lock, key, total):\n",
    "        check = 0\n",
    "        \n",
    "        for i in range(len(key)):\n",
    "            for j in range(len(key)):\n",
    "                if lock[i][j] == 0 and key[i][j] == 1:\n",
    "                    check += 1\n",
    "                \n",
    "                if lock[i][j] * key[i][j] == 1:\n",
    "                    check = -1\n",
    "                    break\n",
    "      \n",
    "      \n",
    "        if check == total:\n",
    "            return True\n",
    "        \n",
    "        else:\n",
    "            return False\n",
    "    \n",
    "    def slicing(lock, key, row, column):\n",
    "        row_slice = lock[row:row+len(key)]\n",
    "        column_slice = []\n",
    "        \n",
    "        for row in row_slice:\n",
    "            column_slice.append(row[column:column+len(key)])\n",
    "        \n",
    "        return column_slice\n",
    "        \n",
    "    pooled_lock = pooling(lock, key)\n",
    "    \n",
    "    total = 0\n",
    "    \n",
    "    for j in lock:\n",
    "        total += j.count(0)\n",
    "        \n",
    "    print(f\"total: {total}\")\n",
    "    for _ in range(4):\n",
    "        key = turn(key)\n",
    "        for row in range(len(lock)):\n",
    "            for column in range(len(lock)):\n",
    "                sliced_lock = slicing(pooled_lock, key, row, column)\n",
    "\n",
    "                answer = check(sliced_lock, key, total)\n",
    "                if answer == True:\n",
    "                    return True\n",
    "    \n",
    "    return False"
   ]
  },
  {
   "cell_type": "code",
   "execution_count": 182,
   "metadata": {},
   "outputs": [],
   "source": [
    "key = [[0, 0, 0], [1, 0, 0], [0, 1, 1]]\t\n",
    "lock = [[1, 1, 1], [1, 1, 0], [1, 0, 1]]\t"
   ]
  },
  {
   "cell_type": "code",
   "execution_count": 183,
   "metadata": {},
   "outputs": [
    {
     "data": {
      "text/plain": [
       "[[2, 1, 0], [1, 0, 0], [1, 0, 0]]"
      ]
     },
     "execution_count": 183,
     "metadata": {},
     "output_type": "execute_result"
    }
   ],
   "source": [
    "turn(key)"
   ]
  },
  {
   "cell_type": "code",
   "execution_count": 180,
   "metadata": {},
   "outputs": [
    {
     "data": {
      "text/plain": [
       "3"
      ]
     },
     "execution_count": 180,
     "metadata": {},
     "output_type": "execute_result"
    }
   ],
   "source": [
    "len(key)"
   ]
  },
  {
   "cell_type": "code",
   "execution_count": 179,
   "metadata": {},
   "outputs": [
    {
     "name": "stdout",
     "output_type": "stream",
     "text": [
      "total: 2\n"
     ]
    },
    {
     "data": {
      "text/plain": [
       "False"
      ]
     },
     "execution_count": 179,
     "metadata": {},
     "output_type": "execute_result"
    }
   ],
   "source": [
    "solution(key, lock)"
   ]
  },
  {
   "cell_type": "code",
   "execution_count": 175,
   "metadata": {},
   "outputs": [],
   "source": [
    "key = [[0,0,0],[1,1,1],[0,0,0]]\n",
    "lock = [[1,1,1],[0,0,0],[1,1,1]]"
   ]
  },
  {
   "cell_type": "code",
   "execution_count": 176,
   "metadata": {},
   "outputs": [
    {
     "name": "stdout",
     "output_type": "stream",
     "text": [
      "total: 3\n",
      "3 3\n",
      "3 3\n",
      "3 3\n",
      "3 3\n",
      "3 3\n",
      "3 3\n",
      "3 3\n",
      "3 3\n",
      "3 3\n",
      "3 3\n",
      "3 3\n",
      "3 3\n",
      "3 3\n",
      "3 3\n",
      "3 3\n",
      "3 3\n",
      "3 3\n",
      "3 3\n",
      "3 3\n",
      "3 3\n",
      "3 3\n",
      "3 3\n",
      "3 3\n",
      "3 3\n",
      "3 3\n",
      "3 3\n",
      "3 3\n",
      "3 3\n",
      "3 3\n",
      "3 3\n",
      "3 3\n",
      "3 3\n",
      "3 3\n",
      "3 3\n",
      "3 3\n",
      "3 3\n"
     ]
    },
    {
     "data": {
      "text/plain": [
       "True"
      ]
     },
     "execution_count": 176,
     "metadata": {},
     "output_type": "execute_result"
    }
   ],
   "source": [
    "solution(key, lock)"
   ]
  },
  {
   "cell_type": "code",
   "execution_count": 172,
   "metadata": {},
   "outputs": [
    {
     "data": {
      "text/plain": [
       "[[-1, -1, -1, -1, -1, -1, -1],\n",
       " [-1, -1, -1, -1, -1, -1, -1],\n",
       " [-1, -1, 1, 1, 1, -1, -1],\n",
       " [-1, -1, 1, 1, 0, -1, -1],\n",
       " [-1, -1, 1, 0, 1, -1, -1],\n",
       " [[-1, -1, -1, -1, -1, -1, -1], [-1, -1, -1, -1, -1, -1, -1]]]"
      ]
     },
     "execution_count": 172,
     "metadata": {},
     "output_type": "execute_result"
    }
   ],
   "source": [
    "pooling(lock, key)"
   ]
  },
  {
   "cell_type": "code",
   "execution_count": 171,
   "metadata": {},
   "outputs": [
    {
     "data": {
      "text/plain": [
       "[[0, 1, 0], [1, 0, 0], [1, 0, 0]]"
      ]
     },
     "execution_count": 171,
     "metadata": {},
     "output_type": "execute_result"
    }
   ],
   "source": [
    "turn(key)"
   ]
  },
  {
   "cell_type": "code",
   "execution_count": 159,
   "metadata": {},
   "outputs": [
    {
     "data": {
      "text/plain": [
       "2"
      ]
     },
     "execution_count": 159,
     "metadata": {},
     "output_type": "execute_result"
    }
   ],
   "source": [
    "total = 0\n",
    "for j in lock:\n",
    "    total += j.count(0)\n",
    "total"
   ]
  },
  {
   "cell_type": "code",
   "execution_count": 162,
   "metadata": {},
   "outputs": [],
   "source": [
    "total = 0\n",
    "for j in lock:\n",
    "    total += j.count(0)"
   ]
  },
  {
   "cell_type": "code",
   "execution_count": 163,
   "metadata": {},
   "outputs": [
    {
     "data": {
      "text/plain": [
       "2"
      ]
     },
     "execution_count": 163,
     "metadata": {},
     "output_type": "execute_result"
    }
   ],
   "source": [
    "total"
   ]
  },
  {
   "cell_type": "code",
   "execution_count": 167,
   "metadata": {},
   "outputs": [
    {
     "data": {
      "text/plain": [
       "[[0, 0, 0], [1, 0, 0], [0, 1, 1]]"
      ]
     },
     "execution_count": 167,
     "metadata": {},
     "output_type": "execute_result"
    }
   ],
   "source": [
    "key"
   ]
  },
  {
   "cell_type": "code",
   "execution_count": 168,
   "metadata": {},
   "outputs": [
    {
     "data": {
      "text/plain": [
       "[[1, 1, 1], [1, 1, 0], [1, 0, 1]]"
      ]
     },
     "execution_count": 168,
     "metadata": {},
     "output_type": "execute_result"
    }
   ],
   "source": [
    "lock"
   ]
  },
  {
   "cell_type": "code",
   "execution_count": 170,
   "metadata": {},
   "outputs": [
    {
     "name": "stdout",
     "output_type": "stream",
     "text": [
      "total: 2\n",
      "3 3\n",
      "3 3\n",
      "3 3\n",
      "3 3\n",
      "3 3\n",
      "3 3\n",
      "3 3\n",
      "3 3\n",
      "3 3\n",
      "3 3\n",
      "3 3\n",
      "3 3\n",
      "3 3\n",
      "3 3\n",
      "3 3\n",
      "3 3\n",
      "3 3\n",
      "3 3\n",
      "3 3\n",
      "3 3\n",
      "3 3\n",
      "3 3\n",
      "3 3\n",
      "3 3\n",
      "3 3\n",
      "3 3\n",
      "3 3\n",
      "3 3\n",
      "3 3\n",
      "3 3\n",
      "3 3\n",
      "3 3\n",
      "3 3\n",
      "3 3\n",
      "3 3\n",
      "3 3\n",
      "3 3\n",
      "3 3\n",
      "3 3\n",
      "3 3\n",
      "3 3\n",
      "3 3\n",
      "3 3\n",
      "3 3\n",
      "3 3\n",
      "3 3\n",
      "3 3\n",
      "3 3\n",
      "3 3\n",
      "3 3\n",
      "3 3\n",
      "3 3\n",
      "3 3\n",
      "3 3\n",
      "3 3\n",
      "3 3\n",
      "3 3\n",
      "3 3\n",
      "3 3\n",
      "3 3\n",
      "3 3\n",
      "3 3\n",
      "3 3\n",
      "3 3\n",
      "3 3\n",
      "3 3\n",
      "3 3\n",
      "3 3\n",
      "3 3\n",
      "3 3\n",
      "3 3\n",
      "3 3\n"
     ]
    },
    {
     "data": {
      "text/plain": [
       "False"
      ]
     },
     "execution_count": 170,
     "metadata": {},
     "output_type": "execute_result"
    }
   ],
   "source": [
    "solution(key, lock)"
   ]
  },
  {
   "cell_type": "code",
   "execution_count": 142,
   "metadata": {},
   "outputs": [
    {
     "data": {
      "text/plain": [
       "[[0, 1, 0], [1, 0, 1], [1, 0, 1]]"
      ]
     },
     "execution_count": 142,
     "metadata": {},
     "output_type": "execute_result"
    }
   ],
   "source": [
    "turn(key)"
   ]
  },
  {
   "cell_type": "code",
   "execution_count": null,
   "metadata": {},
   "outputs": [],
   "source": [
    "def turnRight(a):\n",
    "    row = len(a) # 행\n",
    "    column = len(a[0]) # 열\n",
    "    result = [[0] * row for _ in range(column)]\n",
    "    for i in range(row):\n",
    "        for j in range(column):\n",
    "            result[j][row - i - 1] = a[i][j]\n",
    "    return result\n",
    "\n",
    "def check(newLock):\n",
    "    lockLength = len(newLock) // 3\n",
    "    for i in range(lockLength, lockLength * 2):    \n",
    "        for j in range(lockLength, lockLength * 2):\n",
    "            if newLock[i][j] != 1:               \n",
    "                return False\n",
    "    return True       \n",
    "\n",
    "\n",
    "def solution(key, lock):\n",
    "    N = len(lock)\n",
    "    M = len(key)\n",
    "    newLock = [[0] * (N * 3) for _ in range(N * 3)] # 3배\n",
    "\n",
    "    for i in range(N):\n",
    "        for j in range(N):\n",
    "            newLock[i + N][j + N] = lock[i][j] # 기존값 입력\n",
    "\n",
    "    for rotation in range(4):\n",
    "        key = turnRight(key)\n",
    "\n",
    "        for x in range(N * 2): ### \n",
    "            for y in range(N * 2): ###\n",
    "\n",
    "                for i in range(M): # 자물쇠에 열쇠를 끼워 넣기\n",
    "                    for j in range(M):\n",
    "                        newLock[x + i][y + j] += key[i][j]\n",
    "\n",
    "                if check(newLock) == True: # 새로운 자물쇠에 열쇠가 정확히 들어맞는지 검사\n",
    "                    return True\n",
    "\n",
    "                for i in range(M): # 자물쇠에서 열쇠를 다시 빼기\n",
    "                    for j in range(M):\n",
    "                        newLock[x + i][y + j] -= key[i][j]        \n",
    "    return False"
   ]
  },
  {
   "cell_type": "code",
   "execution_count": 188,
   "metadata": {},
   "outputs": [],
   "source": [
    "def solution(key, lock):\n",
    "    # def turn(key):\n",
    "    #     turn_key = []\n",
    "    #     for i in range(len(key)):\n",
    "    #         temp = [key[j][i] for j in range(len(key))]\n",
    "    #         temp.reverse()\n",
    "    #         turn_key.append(temp)\n",
    "            \n",
    "    #     return turn_key\n",
    "    \n",
    "    def rotation(a):\n",
    "        n = len(a)\n",
    "        m = len(a[0])\n",
    "        \n",
    "        result = [[0]*n for _ in range(m)]\n",
    "        \n",
    "        for i in range(n):\n",
    "            for j in range(m):\n",
    "                result[j][n-i-1] = a[i][j]\n",
    "        \n",
    "        return result\n",
    "    \n",
    "    def check(new_lock):\n",
    "        lock_length = len(new_lock)//3\n",
    "        for i in range(lock_length, lock_length*2):\n",
    "            for j in range(lock_length, lock_length*2):\n",
    "                if new_lock != 1:\n",
    "                    return False\n",
    "        \n",
    "        return True\n",
    "    \n",
    "    n = len(lock)\n",
    "    m = len(key)\n",
    "    \n",
    "    new_lock = [[0] * (n *3) for _ in range(n*3)]\n",
    "    \n",
    "    for i in range(n):\n",
    "        for j in range(n):\n",
    "            new_lock[i+n][j+n] = lock[i][j]\n",
    "    \n",
    "    for _ in range(4):\n",
    "        key = rotation(key)\n",
    "        for x in range(n*2):\n",
    "            for y in range(n*2):\n",
    "                for i in range(m):\n",
    "                    for j in range(m):\n",
    "                        new_lock[x+i][y+j] +=key[i][j]\n",
    "                if check(new_lock) == True:\n",
    "                    return True\n",
    "                for i in range(m):\n",
    "                    for j in range(m):\n",
    "                        new_lock[x+i][y+j] -=key[i][j]\n",
    "    \n",
    "    return False"
   ]
  },
  {
   "cell_type": "code",
   "execution_count": 189,
   "metadata": {},
   "outputs": [
    {
     "data": {
      "text/plain": [
       "True"
      ]
     },
     "execution_count": 189,
     "metadata": {},
     "output_type": "execute_result"
    }
   ],
   "source": [
    "key = [[0, 0, 0], [1, 0, 0], [0, 1, 1]]\t\n",
    "lock = [[1, 1, 1], [1, 1, 0], [1, 0, 1]]\t\n",
    "solution(key, lock)"
   ]
  },
  {
   "cell_type": "code",
   "execution_count": null,
   "metadata": {},
   "outputs": [],
   "source": []
  }
 ],
 "metadata": {
  "kernelspec": {
   "display_name": "Python 3",
   "language": "python",
   "name": "python3"
  },
  "language_info": {
   "codemirror_mode": {
    "name": "ipython",
    "version": 3
   },
   "file_extension": ".py",
   "mimetype": "text/x-python",
   "name": "python",
   "nbconvert_exporter": "python",
   "pygments_lexer": "ipython3",
   "version": "3.8.10"
  },
  "orig_nbformat": 4
 },
 "nbformat": 4,
 "nbformat_minor": 2
}
